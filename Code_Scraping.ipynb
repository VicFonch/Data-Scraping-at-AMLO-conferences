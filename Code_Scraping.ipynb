{
 "cells": [
  {
   "cell_type": "code",
   "execution_count": 2,
   "metadata": {},
   "outputs": [],
   "source": [
    "import requests\n",
    "import re\n",
    "import glob\n",
    "import io\n",
    "import os\n",
    "from bs4 import BeautifulSoup"
   ]
  },
  {
   "cell_type": "code",
   "execution_count": 2,
   "metadata": {},
   "outputs": [],
   "source": [
    "#url = 'https://presidente.gob.mx/22-01-21-version-estenografica-de-la-conferencia-de-prensa-matutina-del-presidente-andres-manuel-lopez-obrador/'\n",
    "url = 'https://presidente.gob.mx/secciones/version-estenografica/page/69/'\n",
    "#url = 'https://resultados.as.com/resultados/futbol/primera/clasificacion'\n",
    "\n",
    "headers = {'User-Agent':'Windowss13'}\n",
    "page = requests.get(url, headers=headers)\n",
    "\n",
    "f = open('conferencia_nueva.txt', 'w', encoding = 'utf-8')\n",
    "f.write(page.text)\n",
    "f.close()"
   ]
  },
  {
   "cell_type": "code",
   "execution_count": null,
   "metadata": {},
   "outputs": [],
   "source": [
    "\n",
    "re.findall('(http|ftp|https)://([\\w_-]+(?:(?:\\.[\\w_-]+)+))([\\w.,@?^=%&:/~+#-]*[\\w@?^=%&/~+#-])?',\n",
    "           open('./conferencia_nueva.txt', 'r', encoding = 'utf-8').read())\n"
   ]
  },
  {
   "cell_type": "code",
   "execution_count": 62,
   "metadata": {},
   "outputs": [],
   "source": [
    "url_i = 'https://presidente.gob.mx/secciones/version-estenografica/page/'\n",
    "n_page = 116\n",
    "\n",
    "for i in range(1, n_page + 1):\n",
    "    page = requests.get(url_i + str(i) + '/', headers = headers) \n",
    "    f = open('./Page/' + str(i) + '.txt', 'w', encoding='utf-8')\n",
    "    f.write(page.text)\n",
    "    f.close()"
   ]
  },
  {
   "cell_type": "code",
   "execution_count": null,
   "metadata": {},
   "outputs": [],
   "source": [
    "urls_conf = []\n",
    "\n",
    "for pagina in glob.glob('./Page/*'):\n",
    "    urls_conf += [path for protocol, domain, path in \n",
    "                  re.findall(r'(http|ftp|https):\\/\\/([\\w\\-_]+(?:(?:\\.[\\w\\-_]+)+))([\\w\\-\\.,@?^=%&:/~\\+#]*[\\w\\-\\@?^=%&/~\\+#])?', \n",
    "                             open(pagina, 'r', encoding = 'utf-8').read())\n",
    "                  if \"estenografica-de-la\" in path]\n",
    "print(urls_conf)"
   ]
  },
  {
   "attachments": {},
   "cell_type": "markdown",
   "metadata": {},
   "source": [
    "*Estos dos archivos los eliminos porque me da un error que no comprendo y no logro arreglar, no hara tanta diferencia a la hora de analizar*"
   ]
  },
  {
   "cell_type": "code",
   "execution_count": null,
   "metadata": {},
   "outputs": [],
   "source": [
    "urls_conf_set = list(set(urls_conf))\n",
    "\n",
    "#El valor de la posicion 350 da problemas\n",
    "urls_conf_set.pop(350)\n",
    "urls_conf_set.pop(424)"
   ]
  },
  {
   "cell_type": "code",
   "execution_count": null,
   "metadata": {},
   "outputs": [],
   "source": [
    "for path in urls_conf_set:    \n",
    "    page = requests.get('https://presidente.gob.mx' + str(path), headers = headers) \n",
    "    f = open('./Estenograficas/' + path.replace(\"/\", '-'), 'w', encoding='utf-8')\n",
    "    f.write(page.text)\n",
    "    f.close()"
   ]
  },
  {
   "attachments": {},
   "cell_type": "markdown",
   "metadata": {},
   "source": [
    "*Este archivo lo elimino porque me da un error que no comprendo y no logro arreglar*"
   ]
  },
  {
   "cell_type": "code",
   "execution_count": null,
   "metadata": {},
   "outputs": [],
   "source": [
    "os.remove(glob.glob('./Estenograficas/*')[757])"
   ]
  },
  {
   "cell_type": "code",
   "execution_count": 88,
   "metadata": {},
   "outputs": [],
   "source": [
    "\n",
    "for pagina in glob.glob('./Estenograficas/*'):\n",
    "    soup = BeautifulSoup(open(pagina, 'r', encoding = 'utf-8').read(), 'lxml')\n",
    "    open('./Estenograficas_Limpias/' + pagina.replace(\"./Estenograficas\\\\\", \"\"), 'w', encoding='utf-8').write(soup.get_text())"
   ]
  },
  {
   "cell_type": "code",
   "execution_count": 74,
   "metadata": {},
   "outputs": [],
   "source": [
    "from datetime import datetime\n",
    "\n",
    "def date_normaliza(str_date):\n",
    "    datetime_object = datetime.strptime(str_date[:6] + \"20\" + str_date[6:], '%d.%m.%Y')\n",
    "    new_format = datetime_object.strftime('%Y-%m-%d')\n",
    "    return new_format\n",
    "\n",
    "for i, pagina in enumerate(glob.glob('./Estenograficas_Limpias/*')):\n",
    "    \n",
    "    f = open(pagina, \"r\", encoding='utf-8').read()\n",
    "    \n",
    "    if i == 211 or i == 821:\n",
    "        fechas = re.findall('[0-9][0-9]\\.[0-9][0-9][0-9][0-9]', f)[0]\n",
    "        fechas = fechas[:5] + \".\" + fechas[5:]\n",
    "    elif i == 960:\n",
    "        fecha_temp = re.findall('[0-9][0-9]\\.[0-9][0-9][0-9]\\.[0-9][0-9]', f)[0]\n",
    "        fechas = ''\n",
    "        for i in range(9):\n",
    "            if i != 4:\n",
    "                fechas += fecha_temp[i]\n",
    "        \n",
    "\n",
    "    else:\n",
    "        fechas = re.findall('[0-9][0-9]\\.[0-9][0-9]\\.[0-9][0-9]', f)[0]\n",
    "    \n",
    "    \n",
    "    open('./Estenograficas_Limpias_por_Fecha/' + date_normaliza(fechas), 'w', encoding='utf-8').write(f)\n",
    "\n"
   ]
  }
 ],
 "metadata": {
  "kernelspec": {
   "display_name": "base",
   "language": "python",
   "name": "python3"
  },
  "language_info": {
   "codemirror_mode": {
    "name": "ipython",
    "version": 3
   },
   "file_extension": ".py",
   "mimetype": "text/x-python",
   "name": "python",
   "nbconvert_exporter": "python",
   "pygments_lexer": "ipython3",
   "version": "3.9.13 (main, Aug 25 2022, 23:51:50) [MSC v.1916 64 bit (AMD64)]"
  },
  "orig_nbformat": 4,
  "vscode": {
   "interpreter": {
    "hash": "e01fcc97167fe52939e9f75a95251693d26305b815f6841eb2631be93d076428"
   }
  }
 },
 "nbformat": 4,
 "nbformat_minor": 2
}
